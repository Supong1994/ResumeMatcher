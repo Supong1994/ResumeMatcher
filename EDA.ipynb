{
 "cells": [
  {
   "cell_type": "code",
   "execution_count": null,
   "id": "cfcca0cd-d904-4e0c-b5ea-2c87d5f329db",
   "metadata": {},
   "outputs": [
    {
     "name": "stdout",
     "output_type": "stream",
     "text": [
      "📁 BASE_DIR: C:\\Users\\supong\\PycharmProjects\\ResumeJobMatcher\n",
      "🔍 Checking contents of src/: C:\\Users\\supong\\PycharmProjects\\ResumeJobMatcher\\src\n",
      "📂 Files in src/: ['extractor.py', 'matcher.py', 'vectorizer.py', '__init__.py', '__pycache__']\n"
     ]
    },
    {
     "name": "stderr",
     "output_type": "stream",
     "text": [
      "C:\\Users\\supong\\AppData\\Roaming\\Python\\Python312\\site-packages\\tqdm\\auto.py:21: TqdmWarning: IProgress not found. Please update jupyter and ipywidgets. See https://ipywidgets.readthedocs.io/en/stable/user_install.html\n",
      "  from .autonotebook import tqdm as notebook_tqdm\n",
      "C:\\Users\\supong\\AppData\\Roaming\\Python\\Python312\\site-packages\\huggingface_hub\\file_download.py:143: UserWarning: `huggingface_hub` cache-system uses symlinks by default to efficiently store duplicated files but your machine does not support them in C:\\Users\\supong\\.cache\\huggingface\\hub\\models--sentence-transformers--all-MiniLM-L6-v2. Caching files will still work but in a degraded version that might require more space on your disk. This warning can be disabled by setting the `HF_HUB_DISABLE_SYMLINKS_WARNING` environment variable. For more details, see https://huggingface.co/docs/huggingface_hub/how-to-cache#limitations.\n",
      "To support symlinks on Windows, you either need to activate Developer Mode or to run Python as an administrator. In order to activate developer mode, see this article: https://docs.microsoft.com/en-us/windows/apps/get-started/enable-your-device-for-development\n",
      "  warnings.warn(message)\n",
      "Xet Storage is enabled for this repo, but the 'hf_xet' package is not installed. Falling back to regular HTTP download. For better performance, install the package with: `pip install huggingface_hub[hf_xet]` or `pip install hf_xet`\n"
     ]
    }
   ],
   "source": [
    "import sys\n",
    "import os\n",
    "\n",
    "# ✅ Step 1: Dynamically get the absolute path to the parent directory (ResumeJobMatcher)\n",
    "BASE_DIR = os.path.abspath(os.path.join(os.getcwd(), os.pardir))\n",
    "print(\"📁 BASE_DIR:\", BASE_DIR)\n",
    "\n",
    "# ✅ Step 2: Add BASE_DIR to Python's import path\n",
    "if BASE_DIR not in sys.path:\n",
    "    sys.path.insert(0, BASE_DIR)\n",
    "\n",
    "# ✅ Step 3: Check contents of the src folder\n",
    "src_path = os.path.join(BASE_DIR, \"src\")\n",
    "print(\"🔍 Checking contents of src/:\", src_path)\n",
    "\n",
    "if os.path.exists(src_path):\n",
    "    print(\"📂 Files in src/:\", os.listdir(src_path))\n",
    "else:\n",
    "    raise FileNotFoundError(f\"❌ src folder not found at: {src_path}\")\n",
    "\n",
    "# ✅ Optional but recommended: ensure __init__.py exists\n",
    "init_file = os.path.join(src_path, \"__init__.py\")\n",
    "if not os.path.exists(init_file):\n",
    "    with open(init_file, \"w\"): pass  # create an empty file\n",
    "    print(\"✅ Created __init__.py in src/\")\n",
    "\n",
    "# ✅ Step 4: Import modules\n",
    "try:\n",
    "    from src.extractor import extract_all_resumes, extract_all_jds\n",
    "    from src.vectorizer import model\n",
    "    from src.matcher import match_resume_to_jd\n",
    "    print(\"✅ All modules imported successfully.\")\n",
    "except ModuleNotFoundError as e:\n",
    "    print(\"❌ Import error:\", e)\n",
    "    raise\n",
    "\n",
    "# ✅ Step 5: Run the matcher\n",
    "resumes = extract_all_resumes()\n",
    "jds = extract_all_jds()\n",
    "\n",
    "print(\"🔎 Matching resumes to job descriptions...\\n\")\n",
    "for r_name, r_text in resumes.items():\n",
    "    for jd_name, jd_text in jds.items():\n",
    "        score = match_resume_to_jd(r_text, jd_text, model)\n",
    "        print(f\"{r_name} -> {jd_name} = {score:.2f}\")\n"
   ]
  },
  {
   "cell_type": "code",
   "execution_count": null,
   "id": "1c36074a-6a10-431d-987f-1ae41c82e466",
   "metadata": {},
   "outputs": [],
   "source": []
  }
 ],
 "metadata": {
  "kernelspec": {
   "display_name": "Python 3 (ipykernel)",
   "language": "python",
   "name": "python3"
  },
  "language_info": {
   "codemirror_mode": {
    "name": "ipython",
    "version": 3
   },
   "file_extension": ".py",
   "mimetype": "text/x-python",
   "name": "python",
   "nbconvert_exporter": "python",
   "pygments_lexer": "ipython3",
   "version": "3.12.3"
  }
 },
 "nbformat": 4,
 "nbformat_minor": 5
}
